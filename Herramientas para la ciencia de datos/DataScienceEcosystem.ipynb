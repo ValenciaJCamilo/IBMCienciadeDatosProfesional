{
  "nbformat": 4,
  "nbformat_minor": 0,
  "metadata": {
    "colab": {
      "provenance": []
    },
    "kernelspec": {
      "name": "python3",
      "display_name": "Python 3"
    },
    "language_info": {
      "name": "python"
    }
  },
  "cells": [
    {
      "cell_type": "markdown",
      "source": [
        "# Data Science ToolsEcosystem\n"
      ],
      "metadata": {
        "id": "twAUXSzTHICB"
      }
    },
    {
      "cell_type": "markdown",
      "source": [
        "In this notebook, Data Science Tools and Ecosystem are summarized."
      ],
      "metadata": {
        "id": "-BJR_rcZH_sw"
      }
    },
    {
      "cell_type": "markdown",
      "source": [
        "**Objectives:**\n",
        "\n",
        "- List popular languages for Data Science\n",
        "- Identify commonly used Data Science libraries\n",
        "- Understand the tools available for Data Science development environments\n",
        "- Perform arithmetic operations in Python\n",
        "- Convert units of measurement using Python expressions"
      ],
      "metadata": {
        "id": "T7FR_BurMGJH"
      }
    },
    {
      "cell_type": "markdown",
      "source": [
        "Some of the popular languages that Data Scientists use are:\n",
        "\n",
        "1. Python\n",
        "2. R\n",
        "3. SQL\n",
        "4. Julia\n",
        "5. Scala"
      ],
      "metadata": {
        "id": "9qlpI1SwJxxw"
      }
    },
    {
      "cell_type": "markdown",
      "source": [
        "Some of the commonly used libraries used by Data Scientists include:\n",
        "\n",
        "1. NumPy\n",
        "2. Pandas\n",
        "3. Matplotlib\n",
        "4. Scikit-learn\n",
        "5. TensorFlow"
      ],
      "metadata": {
        "id": "la53laAXKQwf"
      }
    },
    {
      "cell_type": "markdown",
      "source": [
        "| Data Science Tools           |\n",
        "|------------------------------|\n",
        "| Jupyter Notebooks             |\n",
        "| RStudio                       |\n",
        "| Apache Zeppelin               |\n"
      ],
      "metadata": {
        "id": "QHDRyTsEKc4T"
      }
    },
    {
      "cell_type": "markdown",
      "source": [
        "### Below are a few examples of evaluating arithmetic expressions in Python.\n"
      ],
      "metadata": {
        "id": "ltegfSc6K7Az"
      }
    },
    {
      "cell_type": "code",
      "source": [
        "# This is a simple arithmetic expression to multiply then add integers\n",
        "(3 * 4) + 5\n"
      ],
      "metadata": {
        "colab": {
          "base_uri": "https://localhost:8080/"
        },
        "id": "qgUNQ8pjLNQn",
        "outputId": "7e2d424f-ce9d-439f-8841-6f891821b2a8"
      },
      "execution_count": 2,
      "outputs": [
        {
          "output_type": "execute_result",
          "data": {
            "text/plain": [
              "17"
            ]
          },
          "metadata": {},
          "execution_count": 2
        }
      ]
    },
    {
      "cell_type": "code",
      "source": [
        "# This will convert 200 minutes to hours by dividing by 60\n",
        "minutes = 200\n",
        "\n",
        "hours = minutes / 60\n",
        "\n",
        "print(f\"{minutes} minutes is equal to {hours} hours.\")"
      ],
      "metadata": {
        "colab": {
          "base_uri": "https://localhost:8080/"
        },
        "id": "Y0sNchIuLiP2",
        "outputId": "1f370cfb-0c36-4afb-ca52-3c9cde439db6"
      },
      "execution_count": 4,
      "outputs": [
        {
          "output_type": "stream",
          "name": "stdout",
          "text": [
            "200 minutes is equal to 3.3333333333333335 hours.\n"
          ]
        }
      ]
    },
    {
      "cell_type": "markdown",
      "source": [
        "## Author\n",
        "Juan Camilo Valencia Silva"
      ],
      "metadata": {
        "id": "MSRXKFFaMbfU"
      }
    }
  ]
}